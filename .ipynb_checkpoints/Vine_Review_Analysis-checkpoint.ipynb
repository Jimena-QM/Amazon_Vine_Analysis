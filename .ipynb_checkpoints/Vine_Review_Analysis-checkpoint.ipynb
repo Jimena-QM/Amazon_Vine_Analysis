{
 "cells": [
  {
   "cell_type": "code",
   "execution_count": 1,
   "id": "942c3f83-36ff-405a-9247-3a58cc2e8ccc",
   "metadata": {},
   "outputs": [],
   "source": [
    "# Libraries\n",
    "import pandas as pd"
   ]
  },
  {
   "cell_type": "code",
   "execution_count": 2,
   "id": "e82e676d-9c72-4477-8cfc-b9e2904cec4a",
   "metadata": {},
   "outputs": [],
   "source": [
    "# Reading csv into a df\n",
    "vine_df = pd.read_csv(\"vine_table.csv\")"
   ]
  },
  {
   "cell_type": "code",
   "execution_count": 3,
   "id": "b985851c-8541-4236-a261-ab90b6424b57",
   "metadata": {},
   "outputs": [
    {
     "name": "stdout",
     "output_type": "stream",
     "text": [
      "<class 'pandas.core.frame.DataFrame'>\n",
      "RangeIndex: 2643619 entries, 0 to 2643618\n",
      "Data columns (total 6 columns):\n",
      " #   Column             Dtype  \n",
      "---  ------             -----  \n",
      " 0   review_id          object \n",
      " 1   star_rating        float64\n",
      " 2   helpful_votes      float64\n",
      " 3   total_votes        float64\n",
      " 4   vine               object \n",
      " 5   verified_purchase  object \n",
      "dtypes: float64(3), object(3)\n",
      "memory usage: 121.0+ MB\n"
     ]
    }
   ],
   "source": [
    "# Validating data types\n",
    "vine_df.info()"
   ]
  },
  {
   "cell_type": "code",
   "execution_count": 4,
   "id": "a3856e61-1f74-41ba-9a8f-8a67c5c24854",
   "metadata": {},
   "outputs": [
    {
     "data": {
      "text/html": [
       "<div>\n",
       "<style scoped>\n",
       "    .dataframe tbody tr th:only-of-type {\n",
       "        vertical-align: middle;\n",
       "    }\n",
       "\n",
       "    .dataframe tbody tr th {\n",
       "        vertical-align: top;\n",
       "    }\n",
       "\n",
       "    .dataframe thead th {\n",
       "        text-align: right;\n",
       "    }\n",
       "</style>\n",
       "<table border=\"1\" class=\"dataframe\">\n",
       "  <thead>\n",
       "    <tr style=\"text-align: right;\">\n",
       "      <th></th>\n",
       "      <th>review_id</th>\n",
       "      <th>star_rating</th>\n",
       "      <th>helpful_votes</th>\n",
       "      <th>total_votes</th>\n",
       "      <th>vine</th>\n",
       "      <th>verified_purchase</th>\n",
       "    </tr>\n",
       "  </thead>\n",
       "  <tbody>\n",
       "    <tr>\n",
       "      <th>0</th>\n",
       "      <td>REAKC26P07MDN</td>\n",
       "      <td>5.0</td>\n",
       "      <td>0.0</td>\n",
       "      <td>0.0</td>\n",
       "      <td>N</td>\n",
       "      <td>Y</td>\n",
       "    </tr>\n",
       "    <tr>\n",
       "      <th>1</th>\n",
       "      <td>R3NU7OMZ4HQIEG</td>\n",
       "      <td>2.0</td>\n",
       "      <td>0.0</td>\n",
       "      <td>1.0</td>\n",
       "      <td>N</td>\n",
       "      <td>Y</td>\n",
       "    </tr>\n",
       "    <tr>\n",
       "      <th>2</th>\n",
       "      <td>R14QJW3XF8QO1P</td>\n",
       "      <td>5.0</td>\n",
       "      <td>0.0</td>\n",
       "      <td>0.0</td>\n",
       "      <td>N</td>\n",
       "      <td>Y</td>\n",
       "    </tr>\n",
       "    <tr>\n",
       "      <th>3</th>\n",
       "      <td>R2HB7AX0394ZGY</td>\n",
       "      <td>5.0</td>\n",
       "      <td>0.0</td>\n",
       "      <td>0.0</td>\n",
       "      <td>N</td>\n",
       "      <td>Y</td>\n",
       "    </tr>\n",
       "    <tr>\n",
       "      <th>4</th>\n",
       "      <td>RGKMPDQGSAHR3</td>\n",
       "      <td>5.0</td>\n",
       "      <td>0.0</td>\n",
       "      <td>0.0</td>\n",
       "      <td>N</td>\n",
       "      <td>Y</td>\n",
       "    </tr>\n",
       "  </tbody>\n",
       "</table>\n",
       "</div>"
      ],
      "text/plain": [
       "        review_id  star_rating  helpful_votes  total_votes vine  \\\n",
       "0   REAKC26P07MDN          5.0            0.0          0.0    N   \n",
       "1  R3NU7OMZ4HQIEG          2.0            0.0          1.0    N   \n",
       "2  R14QJW3XF8QO1P          5.0            0.0          0.0    N   \n",
       "3  R2HB7AX0394ZGY          5.0            0.0          0.0    N   \n",
       "4   RGKMPDQGSAHR3          5.0            0.0          0.0    N   \n",
       "\n",
       "  verified_purchase  \n",
       "0                 Y  \n",
       "1                 Y  \n",
       "2                 Y  \n",
       "3                 Y  \n",
       "4                 Y  "
      ]
     },
     "execution_count": 4,
     "metadata": {},
     "output_type": "execute_result"
    }
   ],
   "source": [
    "# showing firt 5 lines of df\n",
    "vine_df.head(5)"
   ]
  },
  {
   "cell_type": "code",
   "execution_count": 5,
   "id": "adb46fdc-cc5b-4c1b-9770-7c5cc6472ee0",
   "metadata": {},
   "outputs": [
    {
     "data": {
      "text/html": [
       "<div>\n",
       "<style scoped>\n",
       "    .dataframe tbody tr th:only-of-type {\n",
       "        vertical-align: middle;\n",
       "    }\n",
       "\n",
       "    .dataframe tbody tr th {\n",
       "        vertical-align: top;\n",
       "    }\n",
       "\n",
       "    .dataframe thead th {\n",
       "        text-align: right;\n",
       "    }\n",
       "</style>\n",
       "<table border=\"1\" class=\"dataframe\">\n",
       "  <thead>\n",
       "    <tr style=\"text-align: right;\">\n",
       "      <th></th>\n",
       "      <th>review_id</th>\n",
       "      <th>star_rating</th>\n",
       "      <th>helpful_votes</th>\n",
       "      <th>total_votes</th>\n",
       "      <th>vine</th>\n",
       "      <th>verified_purchase</th>\n",
       "    </tr>\n",
       "  </thead>\n",
       "  <tbody>\n",
       "    <tr>\n",
       "      <th>128</th>\n",
       "      <td>R21KC552Y6HL8X</td>\n",
       "      <td>1.0</td>\n",
       "      <td>27.0</td>\n",
       "      <td>31.0</td>\n",
       "      <td>N</td>\n",
       "      <td>Y</td>\n",
       "    </tr>\n",
       "    <tr>\n",
       "      <th>161</th>\n",
       "      <td>RX9WC9FTIR1XR</td>\n",
       "      <td>5.0</td>\n",
       "      <td>25.0</td>\n",
       "      <td>25.0</td>\n",
       "      <td>N</td>\n",
       "      <td>Y</td>\n",
       "    </tr>\n",
       "    <tr>\n",
       "      <th>256</th>\n",
       "      <td>RGDCOU1KBHMNG</td>\n",
       "      <td>3.0</td>\n",
       "      <td>29.0</td>\n",
       "      <td>31.0</td>\n",
       "      <td>N</td>\n",
       "      <td>Y</td>\n",
       "    </tr>\n",
       "    <tr>\n",
       "      <th>267</th>\n",
       "      <td>RVTYWID2TPMMY</td>\n",
       "      <td>2.0</td>\n",
       "      <td>35.0</td>\n",
       "      <td>42.0</td>\n",
       "      <td>N</td>\n",
       "      <td>Y</td>\n",
       "    </tr>\n",
       "    <tr>\n",
       "      <th>719</th>\n",
       "      <td>R2CMPZ5VESGRLY</td>\n",
       "      <td>4.0</td>\n",
       "      <td>27.0</td>\n",
       "      <td>28.0</td>\n",
       "      <td>N</td>\n",
       "      <td>Y</td>\n",
       "    </tr>\n",
       "  </tbody>\n",
       "</table>\n",
       "</div>"
      ],
      "text/plain": [
       "          review_id  star_rating  helpful_votes  total_votes vine  \\\n",
       "128  R21KC552Y6HL8X          1.0           27.0         31.0    N   \n",
       "161   RX9WC9FTIR1XR          5.0           25.0         25.0    N   \n",
       "256   RGDCOU1KBHMNG          3.0           29.0         31.0    N   \n",
       "267   RVTYWID2TPMMY          2.0           35.0         42.0    N   \n",
       "719  R2CMPZ5VESGRLY          4.0           27.0         28.0    N   \n",
       "\n",
       "    verified_purchase  \n",
       "128                 Y  \n",
       "161                 Y  \n",
       "256                 Y  \n",
       "267                 Y  \n",
       "719                 Y  "
      ]
     },
     "execution_count": 5,
     "metadata": {},
     "output_type": "execute_result"
    }
   ],
   "source": [
    "# Filter total votes > = 20\n",
    "vine_ttl_votes = vine_df[vine_df['total_votes']>= 20]\n",
    "vine_ttl_votes.head(5)"
   ]
  },
  {
   "cell_type": "code",
   "execution_count": 6,
   "id": "184762ec-0e10-440a-a03b-358d3e830513",
   "metadata": {},
   "outputs": [
    {
     "name": "stderr",
     "output_type": "stream",
     "text": [
      "C:\\Users\\jqu23\\anaconda3\\envs\\PythonData\\lib\\site-packages\\ipykernel_launcher.py:2: SettingWithCopyWarning: \n",
      "A value is trying to be set on a copy of a slice from a DataFrame.\n",
      "Try using .loc[row_indexer,col_indexer] = value instead\n",
      "\n",
      "See the caveats in the documentation: https://pandas.pydata.org/pandas-docs/stable/user_guide/indexing.html#returning-a-view-versus-a-copy\n",
      "  \n"
     ]
    }
   ],
   "source": [
    "# Add new column of percent of total votes and filter by % of total votes >= 50%\n",
    "vine_ttl_votes['prct_votes'] = vine_ttl_votes['helpful_votes']/vine_ttl_votes['total_votes']\n",
    "vine_helpful_g_50 = vine_ttl_votes[vine_ttl_votes['prct_votes']>=0.5]"
   ]
  },
  {
   "cell_type": "code",
   "execution_count": 7,
   "id": "09e9786f-a3e6-4841-98f7-821ee16f50e7",
   "metadata": {},
   "outputs": [],
   "source": [
    "# df of only paid reviews\n",
    "vine_y = vine_helpful_g_50[vine_helpful_g_50['vine']== 'Y']"
   ]
  },
  {
   "cell_type": "code",
   "execution_count": 8,
   "id": "1f785f48-7077-4cca-9838-0e1e12fbe4aa",
   "metadata": {},
   "outputs": [],
   "source": [
    "#df of only unpaid reviews\n",
    "vine_n = vine_helpful_g_50[vine_helpful_g_50['vine'] == 'N']"
   ]
  },
  {
   "cell_type": "code",
   "execution_count": 9,
   "id": "76db09b4-ad94-42d4-aa3c-d14dce2dbb48",
   "metadata": {},
   "outputs": [
    {
     "name": "stdout",
     "output_type": "stream",
     "text": [
      "Total of paid reviews: 170\n",
      "Total of unpaid reviews: 37,840\n"
     ]
    }
   ],
   "source": [
    "vine_y_ttl_rev = vine_y['review_id'].count()\n",
    "vine_n_ttl_rev = vine_n['review_id'].count()\n",
    "print(f'Total of paid reviews: {vine_y_ttl_rev:,}\\n' f'Total of unpaid reviews: {vine_n_ttl_rev:,}')"
   ]
  },
  {
   "cell_type": "code",
   "execution_count": 10,
   "id": "940371e5-3ee7-4bc8-847d-4d065f239c6b",
   "metadata": {},
   "outputs": [
    {
     "name": "stdout",
     "output_type": "stream",
     "text": [
      "Total of paid 5 star reviews: 65\n",
      "Total of unpaid 5 star reviews: 20,612\n"
     ]
    }
   ],
   "source": [
    "vine_y_5_star = (vine_y['star_rating'] == 5.0).sum()\n",
    "vine_n_5_star = (vine_n['star_rating'] == 5.0).sum()\n",
    "print(f'Total of paid 5 star reviews: {vine_y_5_star:,}\\n' f'Total of unpaid 5 star reviews: {vine_n_5_star:,}')"
   ]
  },
  {
   "cell_type": "code",
   "execution_count": 11,
   "id": "4dbdebd1-3826-42c2-8f5b-6c7de2920bc9",
   "metadata": {},
   "outputs": [
    {
     "name": "stdout",
     "output_type": "stream",
     "text": [
      "Percentage of paid 5 star reviews: 38.24%\n",
      "Percentage of unpaid 5 star reviews: 54.47%\n"
     ]
    }
   ],
   "source": [
    "vine_y_5_star_prct = vine_y_5_star / vine_y_ttl_rev\n",
    "vine_n_5_star_prct = vine_n_5_star / vine_n_ttl_rev\n",
    "print(f'Percentage of paid 5 star reviews: {vine_y_5_star_prct:.2%}\\n' f'Percentage of unpaid 5 star reviews: {vine_n_5_star_prct:.2%}')"
   ]
  },
  {
   "cell_type": "code",
   "execution_count": 12,
   "id": "811e0fc7-22b1-423d-bbf1-51a8d4c212e3",
   "metadata": {},
   "outputs": [
    {
     "name": "stdout",
     "output_type": "stream",
     "text": [
      "Total reviews >= 50% helpful votes: 38,010\n",
      "Percentage of paid reviews: 0.45%\n",
      "Percentage of nonpaid reviews: 99.55%\n"
     ]
    }
   ],
   "source": [
    "vine_ttl = vine_y_ttl_rev + vine_n_ttl_rev\n",
    "vine_y_prct = vine_y_ttl_rev / vine_ttl\n",
    "vine_n_prct = vine_n_ttl_rev / vine_ttl\n",
    "print(f'Total reviews >= 50% helpful votes: {vine_ttl:,}\\n' f'Percentage of paid reviews: {vine_y_prct:.2%}\\n'\n",
    "      f'Percentage of nonpaid reviews: {vine_n_prct:.2%}')"
   ]
  }
 ],
 "metadata": {
  "kernelspec": {
   "display_name": "Python 3 (ipykernel)",
   "language": "python",
   "name": "python3"
  },
  "language_info": {
   "codemirror_mode": {
    "name": "ipython",
    "version": 3
   },
   "file_extension": ".py",
   "mimetype": "text/x-python",
   "name": "python",
   "nbconvert_exporter": "python",
   "pygments_lexer": "ipython3",
   "version": "3.7.11"
  }
 },
 "nbformat": 4,
 "nbformat_minor": 5
}
